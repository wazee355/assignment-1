{
 "cells": [
  {
   "cell_type": "markdown",
   "id": "effdec2c",
   "metadata": {},
   "source": [
    "Q1. What is the purpose of Python's OOP?\n",
    "\n",
    "Answer- In python object oriented programming oops is a paradigm which means a type of pattern that uses objects and classes in programming. It aims to implement real world entities like inheritance, polymorphisms, encapsulation etc in programming."
   ]
  },
  {
   "cell_type": "markdown",
   "id": "40cc3573",
   "metadata": {},
   "source": [
    "Q2. Where does an Inheritance search look for an attribute?\n",
    "\n",
    "Answer- An Inheritance search look for an attribute first in the instance object, then in the class the instance was created from, then in all higher superclasses, from left to right . The search stop at the first place the attribute is found."
   ]
  },
  {
   "cell_type": "markdown",
   "id": "a3f7ef73",
   "metadata": {},
   "source": [
    "Q3. How do you distinguish between a class object and an instance object?\n",
    "\n",
    "Answer- Classes are a kind of factory for creating multiple instances. Classes also support opeartor overloading methods, which instances inherit and treat any functions nested in class as method for processing instances."
   ]
  },
  {
   "cell_type": "markdown",
   "id": "f3749e17",
   "metadata": {},
   "source": [
    "Q4. What makes the first argument in a class’s method function special?\n",
    "\n",
    "Answer- It always receives the instance object that is the implied subject of the method call. It's usually called 'self' by convention."
   ]
  },
  {
   "cell_type": "markdown",
   "id": "b67a58af",
   "metadata": {},
   "source": [
    "Q5. What is the purpose of the __init__ method?\n",
    "\n",
    "Answer- if the _init_ method is coded or inherited in a class, Python calls it automatically each time an insatnce of that class is created."
   ]
  },
  {
   "cell_type": "markdown",
   "id": "d539e4df",
   "metadata": {},
   "source": [
    "Q6. What is the process for creating a class instance?\n",
    "\n",
    "Answer- You create a class by calling the class name as though it were a function : any arguments passed into the class name show up as arguments two and beyond in the _init_ constructor method.\n",
    "x= class name()\n",
    "y= anothercals(arg1, arg2)\n"
   ]
  },
  {
   "cell_type": "markdown",
   "id": "de69bf1f",
   "metadata": {},
   "source": [
    "Q7. What is the process for creating a class?\n",
    "\n",
    "Answer- class ClassName():\n",
    "#code"
   ]
  },
  {
   "cell_type": "markdown",
   "id": "4d8ca030",
   "metadata": {},
   "source": [
    "Q8. How would you define the superclasses of a class?\n",
    "\n",
    "Answer- They are calsses which are used to inherit from.\n",
    "        calss Son(Father, Mother):\n",
    "        In this case Father and Mother are supercalsses for SOn subclass."
   ]
  }
 ],
 "metadata": {
  "kernelspec": {
   "display_name": "Python 3 (ipykernel)",
   "language": "python",
   "name": "python3"
  },
  "language_info": {
   "codemirror_mode": {
    "name": "ipython",
    "version": 3
   },
   "file_extension": ".py",
   "mimetype": "text/x-python",
   "name": "python",
   "nbconvert_exporter": "python",
   "pygments_lexer": "ipython3",
   "version": "3.9.7"
  }
 },
 "nbformat": 4,
 "nbformat_minor": 5
}
